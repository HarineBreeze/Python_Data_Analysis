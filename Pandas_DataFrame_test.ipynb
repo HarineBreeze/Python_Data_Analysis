{
 "cells": [
  {
   "cell_type": "markdown",
   "id": "4b921936",
   "metadata": {},
   "source": [
    "#### pd.DataFrame({列名:对应的信息})  引用已经准备好的数据，创建DataFrame的表"
   ]
  },
  {
   "cell_type": "code",
   "execution_count": 1,
   "id": "8f5735a2",
   "metadata": {},
   "outputs": [],
   "source": [
    "import pandas as pd\n",
    "name = pd.Series([\"小陈\",\"小李\",\"小王\",\"小张\",\"小赵\",\"小周\"],index=[\"001\",\"002\",\"003\",\"004\",\"005\",\"006\"])\n",
    "gender = pd.Series([\"女\",\"女\",\"男\",\"男\",\"女\",\"男\"],index=[\"006\",\"005\",\"004\",\"003\",\"002\",\"001\"])\n",
    "height = pd.Series([\"172.5\",\"168.0\",\"178.2\",\"181.3\",\"161.7\"],index=[\"001\",\"002\",\"003\",\"004\",\"005\",])\n",
    "\n",
    "df1 = pd.DataFrame({\"姓名\":name,\"性别\":gender,\"身高\":height})"
   ]
  },
  {
   "cell_type": "markdown",
   "id": "c7992983",
   "metadata": {},
   "source": [
    "#### 变量名.fillna(数字) 将表中未知数据替换为括号中的内容"
   ]
  },
  {
   "cell_type": "code",
   "execution_count": 2,
   "id": "b7d2203c",
   "metadata": {},
   "outputs": [
    {
     "data": {
      "text/html": [
       "<div>\n",
       "<style scoped>\n",
       "    .dataframe tbody tr th:only-of-type {\n",
       "        vertical-align: middle;\n",
       "    }\n",
       "\n",
       "    .dataframe tbody tr th {\n",
       "        vertical-align: top;\n",
       "    }\n",
       "\n",
       "    .dataframe thead th {\n",
       "        text-align: right;\n",
       "    }\n",
       "</style>\n",
       "<table border=\"1\" class=\"dataframe\">\n",
       "  <thead>\n",
       "    <tr style=\"text-align: right;\">\n",
       "      <th></th>\n",
       "      <th>姓名</th>\n",
       "      <th>性别</th>\n",
       "      <th>身高</th>\n",
       "    </tr>\n",
       "  </thead>\n",
       "  <tbody>\n",
       "    <tr>\n",
       "      <th>001</th>\n",
       "      <td>小陈</td>\n",
       "      <td>男</td>\n",
       "      <td>172.5</td>\n",
       "    </tr>\n",
       "    <tr>\n",
       "      <th>002</th>\n",
       "      <td>小李</td>\n",
       "      <td>女</td>\n",
       "      <td>168.0</td>\n",
       "    </tr>\n",
       "    <tr>\n",
       "      <th>003</th>\n",
       "      <td>小王</td>\n",
       "      <td>男</td>\n",
       "      <td>178.2</td>\n",
       "    </tr>\n",
       "    <tr>\n",
       "      <th>004</th>\n",
       "      <td>小张</td>\n",
       "      <td>男</td>\n",
       "      <td>181.3</td>\n",
       "    </tr>\n",
       "    <tr>\n",
       "      <th>005</th>\n",
       "      <td>小赵</td>\n",
       "      <td>女</td>\n",
       "      <td>161.7</td>\n",
       "    </tr>\n",
       "    <tr>\n",
       "      <th>006</th>\n",
       "      <td>小周</td>\n",
       "      <td>女</td>\n",
       "      <td>0</td>\n",
       "    </tr>\n",
       "  </tbody>\n",
       "</table>\n",
       "</div>"
      ],
      "text/plain": [
       "     姓名 性别     身高\n",
       "001  小陈  男  172.5\n",
       "002  小李  女  168.0\n",
       "003  小王  男  178.2\n",
       "004  小张  男  181.3\n",
       "005  小赵  女  161.7\n",
       "006  小周  女      0"
      ]
     },
     "execution_count": 2,
     "metadata": {},
     "output_type": "execute_result"
    }
   ],
   "source": [
    "fillna_df1 = df1.fillna(0)\n",
    "fillna_df1"
   ]
  },
  {
   "cell_type": "markdown",
   "id": "0d120f0e",
   "metadata": {},
   "source": [
    "#### 变量名.index 提取表中所有索引（第一列）"
   ]
  },
  {
   "cell_type": "code",
   "execution_count": 3,
   "id": "41d14e62",
   "metadata": {},
   "outputs": [
    {
     "data": {
      "text/plain": [
       "Index(['001', '002', '003', '004', '005', '006'], dtype='object')"
      ]
     },
     "execution_count": 3,
     "metadata": {},
     "output_type": "execute_result"
    }
   ],
   "source": [
    "df1.index"
   ]
  },
  {
   "cell_type": "markdown",
   "id": "a3050bd3",
   "metadata": {},
   "source": [
    "#### 变量名.columns 提取表中所有列名（第一行）"
   ]
  },
  {
   "cell_type": "code",
   "execution_count": 4,
   "id": "6ae8d3ec",
   "metadata": {},
   "outputs": [
    {
     "data": {
      "text/plain": [
       "Index(['姓名', '性别', '身高'], dtype='object')"
      ]
     },
     "execution_count": 4,
     "metadata": {},
     "output_type": "execute_result"
    }
   ],
   "source": [
    "df1.columns"
   ]
  },
  {
   "cell_type": "markdown",
   "id": "e171859f",
   "metadata": {},
   "source": [
    "#### 变量名.T 对原表进行转制（行列交换）"
   ]
  },
  {
   "cell_type": "code",
   "execution_count": 5,
   "id": "83ef3a94",
   "metadata": {},
   "outputs": [
    {
     "data": {
      "text/html": [
       "<div>\n",
       "<style scoped>\n",
       "    .dataframe tbody tr th:only-of-type {\n",
       "        vertical-align: middle;\n",
       "    }\n",
       "\n",
       "    .dataframe tbody tr th {\n",
       "        vertical-align: top;\n",
       "    }\n",
       "\n",
       "    .dataframe thead th {\n",
       "        text-align: right;\n",
       "    }\n",
       "</style>\n",
       "<table border=\"1\" class=\"dataframe\">\n",
       "  <thead>\n",
       "    <tr style=\"text-align: right;\">\n",
       "      <th></th>\n",
       "      <th>001</th>\n",
       "      <th>002</th>\n",
       "      <th>003</th>\n",
       "      <th>004</th>\n",
       "      <th>005</th>\n",
       "      <th>006</th>\n",
       "    </tr>\n",
       "  </thead>\n",
       "  <tbody>\n",
       "    <tr>\n",
       "      <th>姓名</th>\n",
       "      <td>小陈</td>\n",
       "      <td>小李</td>\n",
       "      <td>小王</td>\n",
       "      <td>小张</td>\n",
       "      <td>小赵</td>\n",
       "      <td>小周</td>\n",
       "    </tr>\n",
       "    <tr>\n",
       "      <th>性别</th>\n",
       "      <td>男</td>\n",
       "      <td>女</td>\n",
       "      <td>男</td>\n",
       "      <td>男</td>\n",
       "      <td>女</td>\n",
       "      <td>女</td>\n",
       "    </tr>\n",
       "    <tr>\n",
       "      <th>身高</th>\n",
       "      <td>172.5</td>\n",
       "      <td>168.0</td>\n",
       "      <td>178.2</td>\n",
       "      <td>181.3</td>\n",
       "      <td>161.7</td>\n",
       "      <td>NaN</td>\n",
       "    </tr>\n",
       "  </tbody>\n",
       "</table>\n",
       "</div>"
      ],
      "text/plain": [
       "      001    002    003    004    005  006\n",
       "姓名     小陈     小李     小王     小张     小赵   小周\n",
       "性别      男      女      男      男      女    女\n",
       "身高  172.5  168.0  178.2  181.3  161.7  NaN"
      ]
     },
     "execution_count": 5,
     "metadata": {},
     "output_type": "execute_result"
    }
   ],
   "source": [
    "df1.T"
   ]
  },
  {
   "cell_type": "markdown",
   "id": "9dfd0097",
   "metadata": {},
   "source": [
    "#### 两种方式打印该表的某一列 ① 变量名.列名  ② 变量名[\"列名\"] 第二种方式可以顾及到字符串中的空格等符号"
   ]
  },
  {
   "cell_type": "code",
   "execution_count": 6,
   "id": "e5a735bb",
   "metadata": {},
   "outputs": [
    {
     "name": "stdout",
     "output_type": "stream",
     "text": [
      "001    小陈\n",
      "002    小李\n",
      "003    小王\n",
      "004    小张\n",
      "005    小赵\n",
      "006    小周\n",
      "Name: 姓名, dtype: object\n",
      "001    172.5\n",
      "002    168.0\n",
      "003    178.2\n",
      "004    181.3\n",
      "005    161.7\n",
      "006        0\n",
      "Name: 身高, dtype: object\n"
     ]
    }
   ],
   "source": [
    "print(df1.姓名)\n",
    "print(df1[\"身高\"].fillna(0))"
   ]
  },
  {
   "cell_type": "markdown",
   "id": "99430fbc",
   "metadata": {},
   "source": [
    "#### 变量名[[\"列1\",\"列2\",\"列3\",...]]  提取该表的指定多列"
   ]
  },
  {
   "cell_type": "code",
   "execution_count": 7,
   "id": "54d9898b",
   "metadata": {},
   "outputs": [
    {
     "data": {
      "text/html": [
       "<div>\n",
       "<style scoped>\n",
       "    .dataframe tbody tr th:only-of-type {\n",
       "        vertical-align: middle;\n",
       "    }\n",
       "\n",
       "    .dataframe tbody tr th {\n",
       "        vertical-align: top;\n",
       "    }\n",
       "\n",
       "    .dataframe thead th {\n",
       "        text-align: right;\n",
       "    }\n",
       "</style>\n",
       "<table border=\"1\" class=\"dataframe\">\n",
       "  <thead>\n",
       "    <tr style=\"text-align: right;\">\n",
       "      <th></th>\n",
       "      <th>身高</th>\n",
       "      <th>性别</th>\n",
       "    </tr>\n",
       "  </thead>\n",
       "  <tbody>\n",
       "    <tr>\n",
       "      <th>001</th>\n",
       "      <td>172.5</td>\n",
       "      <td>男</td>\n",
       "    </tr>\n",
       "    <tr>\n",
       "      <th>002</th>\n",
       "      <td>168.0</td>\n",
       "      <td>女</td>\n",
       "    </tr>\n",
       "    <tr>\n",
       "      <th>003</th>\n",
       "      <td>178.2</td>\n",
       "      <td>男</td>\n",
       "    </tr>\n",
       "    <tr>\n",
       "      <th>004</th>\n",
       "      <td>181.3</td>\n",
       "      <td>男</td>\n",
       "    </tr>\n",
       "    <tr>\n",
       "      <th>005</th>\n",
       "      <td>161.7</td>\n",
       "      <td>女</td>\n",
       "    </tr>\n",
       "    <tr>\n",
       "      <th>006</th>\n",
       "      <td>0</td>\n",
       "      <td>女</td>\n",
       "    </tr>\n",
       "  </tbody>\n",
       "</table>\n",
       "</div>"
      ],
      "text/plain": [
       "        身高 性别\n",
       "001  172.5  男\n",
       "002  168.0  女\n",
       "003  178.2  男\n",
       "004  181.3  男\n",
       "005  161.7  女\n",
       "006      0  女"
      ]
     },
     "execution_count": 7,
     "metadata": {},
     "output_type": "execute_result"
    }
   ],
   "source": [
    "df1[[\"身高\",\"性别\"]].fillna(0)"
   ]
  },
  {
   "cell_type": "code",
   "execution_count": 8,
   "id": "142b2090",
   "metadata": {},
   "outputs": [
    {
     "name": "stdout",
     "output_type": "stream",
     "text": [
      "姓名       小赵\n",
      "性别        女\n",
      "身高    161.7\n",
      "Name: 005, dtype: object\n",
      "     姓名 性别     身高\n",
      "005  小赵  女  161.7\n",
      "002  小李  女  168.0\n",
      "004  小张  男  181.3\n",
      "     姓名     身高\n",
      "005  小赵  161.7\n",
      "001  小陈  172.5\n",
      "     姓名 性别     身高\n",
      "001  小陈  男  172.5\n",
      "002  小李  女  168.0\n",
      "003  小王  男  178.2\n",
      "004  小张  男  181.3\n",
      "005  小赵  女  161.7\n",
      "006  小周  女    NaN\n"
     ]
    }
   ],
   "source": [
    "# 变量名.loc[\"索引名\"]  提取指定对应索引的所有内容 (索引名带双引号)\n",
    "print(df1.loc[\"005\"])\n",
    "# 变量名.loc[[\"索引名\"]]  提取指定多条对应索引的所有内容(用两个方括号“[[]]”)\n",
    "# 变量名.loc[\"索引起始\":\"索引结束\"]  提取从指定的起始到结束的一段内容\n",
    "print(df1.loc[[\"005\",\"002\",\"004\"]])\n",
    "# 变量名.loc[[索引1,索引2...],[列1,列2...]]  提取指定的多条索引的指定多个条件；如果将[索引1,索引2...]整体替换为冒号“:”意味所有索引\n",
    "print(df1.loc[[\"005\",\"001\"],[\"姓名\",\"身高\"]])\n",
    "print(df1)"
   ]
  },
  {
   "cell_type": "markdown",
   "id": "07619b99",
   "metadata": {},
   "source": [
    "#### 变量名.head(行数) 提取所输入行数的数据(不输入默认为5)"
   ]
  },
  {
   "cell_type": "code",
   "execution_count": 9,
   "id": "d8bdc4bf",
   "metadata": {},
   "outputs": [
    {
     "data": {
      "text/html": [
       "<div>\n",
       "<style scoped>\n",
       "    .dataframe tbody tr th:only-of-type {\n",
       "        vertical-align: middle;\n",
       "    }\n",
       "\n",
       "    .dataframe tbody tr th {\n",
       "        vertical-align: top;\n",
       "    }\n",
       "\n",
       "    .dataframe thead th {\n",
       "        text-align: right;\n",
       "    }\n",
       "</style>\n",
       "<table border=\"1\" class=\"dataframe\">\n",
       "  <thead>\n",
       "    <tr style=\"text-align: right;\">\n",
       "      <th></th>\n",
       "      <th>姓名</th>\n",
       "      <th>性别</th>\n",
       "      <th>身高</th>\n",
       "    </tr>\n",
       "  </thead>\n",
       "  <tbody>\n",
       "    <tr>\n",
       "      <th>001</th>\n",
       "      <td>小陈</td>\n",
       "      <td>男</td>\n",
       "      <td>172.5</td>\n",
       "    </tr>\n",
       "    <tr>\n",
       "      <th>002</th>\n",
       "      <td>小李</td>\n",
       "      <td>女</td>\n",
       "      <td>168.0</td>\n",
       "    </tr>\n",
       "  </tbody>\n",
       "</table>\n",
       "</div>"
      ],
      "text/plain": [
       "     姓名 性别     身高\n",
       "001  小陈  男  172.5\n",
       "002  小李  女  168.0"
      ]
     },
     "execution_count": 9,
     "metadata": {},
     "output_type": "execute_result"
    }
   ],
   "source": [
    "df1.head(2)"
   ]
  },
  {
   "cell_type": "code",
   "execution_count": 10,
   "id": "99c9a515",
   "metadata": {},
   "outputs": [
    {
     "name": "stdout",
     "output_type": "stream",
     "text": [
      "object\n"
     ]
    }
   ],
   "source": [
    "# 检查列数据类型\n",
    "print(df1[\"身高\"].dtype)\n",
    "# 如果数据类型不是数值型，尝试转换\n",
    "if df1[\"身高\"].dtype.kind not in 'fi':\n",
    "    # 尝试将身高列转换为浮点数，忽略转换失败的条目\n",
    "    df1[\"身高\"] = pd.to_numeric(df1[\"身高\"], errors='coerce')"
   ]
  },
  {
   "cell_type": "markdown",
   "id": "64d61c89",
   "metadata": {},
   "source": [
    "#### 变量名[(变量名[\"列名1\"] > 数据 ) & (变量名[\"列名2\"] == \"数据\")]   用于筛选指定条件的数据"
   ]
  },
  {
   "cell_type": "code",
   "execution_count": 11,
   "id": "36250708",
   "metadata": {},
   "outputs": [
    {
     "data": {
      "text/html": [
       "<div>\n",
       "<style scoped>\n",
       "    .dataframe tbody tr th:only-of-type {\n",
       "        vertical-align: middle;\n",
       "    }\n",
       "\n",
       "    .dataframe tbody tr th {\n",
       "        vertical-align: top;\n",
       "    }\n",
       "\n",
       "    .dataframe thead th {\n",
       "        text-align: right;\n",
       "    }\n",
       "</style>\n",
       "<table border=\"1\" class=\"dataframe\">\n",
       "  <thead>\n",
       "    <tr style=\"text-align: right;\">\n",
       "      <th></th>\n",
       "      <th>姓名</th>\n",
       "      <th>性别</th>\n",
       "      <th>身高</th>\n",
       "    </tr>\n",
       "  </thead>\n",
       "  <tbody>\n",
       "    <tr>\n",
       "      <th>002</th>\n",
       "      <td>小李</td>\n",
       "      <td>女</td>\n",
       "      <td>168.0</td>\n",
       "    </tr>\n",
       "  </tbody>\n",
       "</table>\n",
       "</div>"
      ],
      "text/plain": [
       "     姓名 性别     身高\n",
       "002  小李  女  168.0"
      ]
     },
     "execution_count": 11,
     "metadata": {},
     "output_type": "execute_result"
    }
   ],
   "source": [
    "select_df1 = df1[(df1[\"身高\"] > 165) & (df1[\"性别\"] == \"女\")] # 筛选df1表中身高大于165和性别为女的所有数据\n",
    "select_df1"
   ]
  },
  {
   "cell_type": "markdown",
   "id": "9e0fa1b1",
   "metadata": {},
   "source": [
    "#### 创建一个6个人的表，包括姓名、性别、身高、语文"
   ]
  },
  {
   "cell_type": "code",
   "execution_count": 12,
   "id": "ea99e815",
   "metadata": {},
   "outputs": [
    {
     "data": {
      "text/html": [
       "<div>\n",
       "<style scoped>\n",
       "    .dataframe tbody tr th:only-of-type {\n",
       "        vertical-align: middle;\n",
       "    }\n",
       "\n",
       "    .dataframe tbody tr th {\n",
       "        vertical-align: top;\n",
       "    }\n",
       "\n",
       "    .dataframe thead th {\n",
       "        text-align: right;\n",
       "    }\n",
       "</style>\n",
       "<table border=\"1\" class=\"dataframe\">\n",
       "  <thead>\n",
       "    <tr style=\"text-align: right;\">\n",
       "      <th></th>\n",
       "      <th>姓名</th>\n",
       "      <th>性别</th>\n",
       "      <th>身高</th>\n",
       "      <th>语文</th>\n",
       "    </tr>\n",
       "  </thead>\n",
       "  <tbody>\n",
       "    <tr>\n",
       "      <th>001</th>\n",
       "      <td>张三</td>\n",
       "      <td>男</td>\n",
       "      <td>172.5</td>\n",
       "      <td>75</td>\n",
       "    </tr>\n",
       "    <tr>\n",
       "      <th>002</th>\n",
       "      <td>李四</td>\n",
       "      <td>女</td>\n",
       "      <td>168.0</td>\n",
       "      <td>89</td>\n",
       "    </tr>\n",
       "    <tr>\n",
       "      <th>003</th>\n",
       "      <td>王五</td>\n",
       "      <td>男</td>\n",
       "      <td>178.2</td>\n",
       "      <td>83</td>\n",
       "    </tr>\n",
       "    <tr>\n",
       "      <th>004</th>\n",
       "      <td>赵七</td>\n",
       "      <td>男</td>\n",
       "      <td>181.3</td>\n",
       "      <td>79</td>\n",
       "    </tr>\n",
       "    <tr>\n",
       "      <th>005</th>\n",
       "      <td>李八</td>\n",
       "      <td>女</td>\n",
       "      <td>161.7</td>\n",
       "      <td>74</td>\n",
       "    </tr>\n",
       "    <tr>\n",
       "      <th>006</th>\n",
       "      <td>周久</td>\n",
       "      <td>女</td>\n",
       "      <td>165.4</td>\n",
       "      <td>65</td>\n",
       "    </tr>\n",
       "  </tbody>\n",
       "</table>\n",
       "</div>"
      ],
      "text/plain": [
       "     姓名 性别     身高  语文\n",
       "001  张三  男  172.5  75\n",
       "002  李四  女  168.0  89\n",
       "003  王五  男  178.2  83\n",
       "004  赵七  男  181.3  79\n",
       "005  李八  女  161.7  74\n",
       "006  周久  女  165.4  65"
      ]
     },
     "execution_count": 12,
     "metadata": {},
     "output_type": "execute_result"
    }
   ],
   "source": [
    "name = pd.Series([\"张三\",\"李四\",\"王五\",\"赵七\",\"李八\",\"周久\"],index=[\"001\",\"002\",\"003\",\"004\",\"005\",\"006\"])\n",
    "gender = pd.Series([\"女\",\"女\",\"男\",\"男\",\"女\",\"男\"],index=[\"006\",\"005\",\"004\",\"003\",\"002\",\"001\"])\n",
    "height = pd.Series([\"172.5\",\"168.0\",\"178.2\",\"181.3\",\"161.7\",\"165.4\"],index=[\"001\",\"002\",\"003\",\"004\",\"005\",\"006\"])\n",
    "chinease = pd.Series([\"89\",\"79\",\"65\",\"75\",\"83\",\"74\"],index=[\"002\",\"004\",\"006\",\"001\",\"003\",\"005\"])\n",
    "\n",
    "df_t = pd.DataFrame({\"姓名\":name,\"性别\":gender,\"身高\":height,\"语文\":chinease})\n",
    "df_t"
   ]
  },
  {
   "cell_type": "markdown",
   "id": "dcef97db",
   "metadata": {},
   "source": [
    "#### 变量名[\"列名\"] = [\"与列\",\"一一\",\"对照,\"的数量\",“的数据”]    如下，当输入列名不存在时，会新加入该列"
   ]
  },
  {
   "cell_type": "code",
   "execution_count": 13,
   "id": "5e81869c",
   "metadata": {},
   "outputs": [
    {
     "data": {
      "text/html": [
       "<div>\n",
       "<style scoped>\n",
       "    .dataframe tbody tr th:only-of-type {\n",
       "        vertical-align: middle;\n",
       "    }\n",
       "\n",
       "    .dataframe tbody tr th {\n",
       "        vertical-align: top;\n",
       "    }\n",
       "\n",
       "    .dataframe thead th {\n",
       "        text-align: right;\n",
       "    }\n",
       "</style>\n",
       "<table border=\"1\" class=\"dataframe\">\n",
       "  <thead>\n",
       "    <tr style=\"text-align: right;\">\n",
       "      <th></th>\n",
       "      <th>姓名</th>\n",
       "      <th>性别</th>\n",
       "      <th>身高</th>\n",
       "      <th>语文</th>\n",
       "      <th>删我</th>\n",
       "      <th>英语</th>\n",
       "      <th>班级</th>\n",
       "    </tr>\n",
       "  </thead>\n",
       "  <tbody>\n",
       "    <tr>\n",
       "      <th>001</th>\n",
       "      <td>张三</td>\n",
       "      <td>男</td>\n",
       "      <td>172.5</td>\n",
       "      <td>75</td>\n",
       "      <td>哈</td>\n",
       "      <td>86</td>\n",
       "      <td>一班</td>\n",
       "    </tr>\n",
       "    <tr>\n",
       "      <th>002</th>\n",
       "      <td>李四</td>\n",
       "      <td>女</td>\n",
       "      <td>168.0</td>\n",
       "      <td>89</td>\n",
       "      <td>删</td>\n",
       "      <td>87</td>\n",
       "      <td>三班</td>\n",
       "    </tr>\n",
       "    <tr>\n",
       "      <th>003</th>\n",
       "      <td>王五</td>\n",
       "      <td>男</td>\n",
       "      <td>178.2</td>\n",
       "      <td>83</td>\n",
       "      <td>了</td>\n",
       "      <td>83</td>\n",
       "      <td>二班</td>\n",
       "    </tr>\n",
       "    <tr>\n",
       "      <th>004</th>\n",
       "      <td>赵七</td>\n",
       "      <td>男</td>\n",
       "      <td>181.3</td>\n",
       "      <td>79</td>\n",
       "      <td>我</td>\n",
       "      <td>75</td>\n",
       "      <td>二班</td>\n",
       "    </tr>\n",
       "    <tr>\n",
       "      <th>005</th>\n",
       "      <td>李八</td>\n",
       "      <td>女</td>\n",
       "      <td>161.7</td>\n",
       "      <td>74</td>\n",
       "      <td>吧</td>\n",
       "      <td>73</td>\n",
       "      <td>一班</td>\n",
       "    </tr>\n",
       "    <tr>\n",
       "      <th>006</th>\n",
       "      <td>周久</td>\n",
       "      <td>女</td>\n",
       "      <td>165.4</td>\n",
       "      <td>65</td>\n",
       "      <td>行</td>\n",
       "      <td>96</td>\n",
       "      <td>三班</td>\n",
       "    </tr>\n",
       "  </tbody>\n",
       "</table>\n",
       "</div>"
      ],
      "text/plain": [
       "     姓名 性别     身高  语文 删我  英语  班级\n",
       "001  张三  男  172.5  75  哈  86  一班\n",
       "002  李四  女  168.0  89  删  87  三班\n",
       "003  王五  男  178.2  83  了  83  二班\n",
       "004  赵七  男  181.3  79  我  75  二班\n",
       "005  李八  女  161.7  74  吧  73  一班\n",
       "006  周久  女  165.4  65  行  96  三班"
      ]
     },
     "execution_count": 13,
     "metadata": {},
     "output_type": "execute_result"
    }
   ],
   "source": [
    "df_t[\"删我\"] = [\"哈\",\"删\",\"了\",\"我\",\"吧\",\"行\"]\n",
    "df_t[\"英语\"] = [\"86\",\"87\",\"83\",\"75\",\"73\",\"96\"]\n",
    "df_t[\"班级\"] = [\"一班\",\"三班\",\"二班\",\"二班\",\"一班\",\"三班\"]\n",
    "df_t"
   ]
  },
  {
   "cell_type": "markdown",
   "id": "e2afceb4",
   "metadata": {},
   "source": [
    "#### 变量名[\"索引名\"] = [\"与列\",\"一一\",\"对照,\"的数量\",“的数据”]   "
   ]
  },
  {
   "cell_type": "code",
   "execution_count": 14,
   "id": "bb317e7b",
   "metadata": {},
   "outputs": [
    {
     "data": {
      "text/html": [
       "<div>\n",
       "<style scoped>\n",
       "    .dataframe tbody tr th:only-of-type {\n",
       "        vertical-align: middle;\n",
       "    }\n",
       "\n",
       "    .dataframe tbody tr th {\n",
       "        vertical-align: top;\n",
       "    }\n",
       "\n",
       "    .dataframe thead th {\n",
       "        text-align: right;\n",
       "    }\n",
       "</style>\n",
       "<table border=\"1\" class=\"dataframe\">\n",
       "  <thead>\n",
       "    <tr style=\"text-align: right;\">\n",
       "      <th></th>\n",
       "      <th>姓名</th>\n",
       "      <th>性别</th>\n",
       "      <th>身高</th>\n",
       "      <th>语文</th>\n",
       "      <th>删我</th>\n",
       "      <th>英语</th>\n",
       "      <th>班级</th>\n",
       "    </tr>\n",
       "  </thead>\n",
       "  <tbody>\n",
       "    <tr>\n",
       "      <th>001</th>\n",
       "      <td>张三</td>\n",
       "      <td>男</td>\n",
       "      <td>172.5</td>\n",
       "      <td>75</td>\n",
       "      <td>哈</td>\n",
       "      <td>86</td>\n",
       "      <td>一班</td>\n",
       "    </tr>\n",
       "    <tr>\n",
       "      <th>002</th>\n",
       "      <td>李四</td>\n",
       "      <td>女</td>\n",
       "      <td>168.0</td>\n",
       "      <td>89</td>\n",
       "      <td>删</td>\n",
       "      <td>87</td>\n",
       "      <td>三班</td>\n",
       "    </tr>\n",
       "    <tr>\n",
       "      <th>003</th>\n",
       "      <td>王五</td>\n",
       "      <td>男</td>\n",
       "      <td>178.2</td>\n",
       "      <td>83</td>\n",
       "      <td>了</td>\n",
       "      <td>83</td>\n",
       "      <td>二班</td>\n",
       "    </tr>\n",
       "    <tr>\n",
       "      <th>004</th>\n",
       "      <td>赵七</td>\n",
       "      <td>男</td>\n",
       "      <td>181.3</td>\n",
       "      <td>79</td>\n",
       "      <td>我</td>\n",
       "      <td>75</td>\n",
       "      <td>二班</td>\n",
       "    </tr>\n",
       "    <tr>\n",
       "      <th>005</th>\n",
       "      <td>李八</td>\n",
       "      <td>女</td>\n",
       "      <td>161.7</td>\n",
       "      <td>74</td>\n",
       "      <td>吧</td>\n",
       "      <td>73</td>\n",
       "      <td>一班</td>\n",
       "    </tr>\n",
       "    <tr>\n",
       "      <th>006</th>\n",
       "      <td>周久</td>\n",
       "      <td>女</td>\n",
       "      <td>165.4</td>\n",
       "      <td>65</td>\n",
       "      <td>行</td>\n",
       "      <td>96</td>\n",
       "      <td>三班</td>\n",
       "    </tr>\n",
       "    <tr>\n",
       "      <th>007</th>\n",
       "      <td>小何</td>\n",
       "      <td>男</td>\n",
       "      <td>174.8</td>\n",
       "      <td>88</td>\n",
       "      <td>的</td>\n",
       "      <td>79</td>\n",
       "      <td>二班</td>\n",
       "    </tr>\n",
       "    <tr>\n",
       "      <th>008</th>\n",
       "      <td>陈雨</td>\n",
       "      <td>女</td>\n",
       "      <td>159.5</td>\n",
       "      <td>89</td>\n",
       "      <td>好</td>\n",
       "      <td>86</td>\n",
       "      <td>二班</td>\n",
       "    </tr>\n",
       "  </tbody>\n",
       "</table>\n",
       "</div>"
      ],
      "text/plain": [
       "     姓名 性别     身高  语文 删我  英语  班级\n",
       "001  张三  男  172.5  75  哈  86  一班\n",
       "002  李四  女  168.0  89  删  87  三班\n",
       "003  王五  男  178.2  83  了  83  二班\n",
       "004  赵七  男  181.3  79  我  75  二班\n",
       "005  李八  女  161.7  74  吧  73  一班\n",
       "006  周久  女  165.4  65  行  96  三班\n",
       "007  小何  男  174.8  88  的  79  二班\n",
       "008  陈雨  女  159.5  89  好  86  二班"
      ]
     },
     "execution_count": 14,
     "metadata": {},
     "output_type": "execute_result"
    }
   ],
   "source": [
    "df_t.loc[\"007\"] = [\"小何\",\"男\",\"174.8\",\"88\",\"的\",\"79\",\"二班\"]\n",
    "df_t.loc[\"008\"] = [\"陈雨\",\"女\",\"159.5\",\"89\",\"好\",\"86\",\"二班\"]\n",
    "\n",
    "df_t"
   ]
  },
  {
   "cell_type": "markdown",
   "id": "60027072",
   "metadata": {},
   "source": [
    "#### 变量名.drop(\"索引名\",axis=1)  删除该列的位置    将括号中内容改为(\"索引1\",\"索引6\")，则表示删除从1到6的一个范围;axis=0则删行"
   ]
  },
  {
   "cell_type": "code",
   "execution_count": 15,
   "id": "5f941cf6",
   "metadata": {},
   "outputs": [
    {
     "data": {
      "text/html": [
       "<div>\n",
       "<style scoped>\n",
       "    .dataframe tbody tr th:only-of-type {\n",
       "        vertical-align: middle;\n",
       "    }\n",
       "\n",
       "    .dataframe tbody tr th {\n",
       "        vertical-align: top;\n",
       "    }\n",
       "\n",
       "    .dataframe thead th {\n",
       "        text-align: right;\n",
       "    }\n",
       "</style>\n",
       "<table border=\"1\" class=\"dataframe\">\n",
       "  <thead>\n",
       "    <tr style=\"text-align: right;\">\n",
       "      <th></th>\n",
       "      <th>姓名</th>\n",
       "      <th>性别</th>\n",
       "      <th>身高</th>\n",
       "      <th>语文</th>\n",
       "      <th>英语</th>\n",
       "      <th>班级</th>\n",
       "    </tr>\n",
       "  </thead>\n",
       "  <tbody>\n",
       "    <tr>\n",
       "      <th>001</th>\n",
       "      <td>张三</td>\n",
       "      <td>男</td>\n",
       "      <td>172.5</td>\n",
       "      <td>75</td>\n",
       "      <td>86</td>\n",
       "      <td>一班</td>\n",
       "    </tr>\n",
       "    <tr>\n",
       "      <th>002</th>\n",
       "      <td>李四</td>\n",
       "      <td>女</td>\n",
       "      <td>168.0</td>\n",
       "      <td>89</td>\n",
       "      <td>87</td>\n",
       "      <td>三班</td>\n",
       "    </tr>\n",
       "    <tr>\n",
       "      <th>003</th>\n",
       "      <td>王五</td>\n",
       "      <td>男</td>\n",
       "      <td>178.2</td>\n",
       "      <td>83</td>\n",
       "      <td>83</td>\n",
       "      <td>二班</td>\n",
       "    </tr>\n",
       "    <tr>\n",
       "      <th>004</th>\n",
       "      <td>赵七</td>\n",
       "      <td>男</td>\n",
       "      <td>181.3</td>\n",
       "      <td>79</td>\n",
       "      <td>75</td>\n",
       "      <td>二班</td>\n",
       "    </tr>\n",
       "    <tr>\n",
       "      <th>005</th>\n",
       "      <td>李八</td>\n",
       "      <td>女</td>\n",
       "      <td>161.7</td>\n",
       "      <td>74</td>\n",
       "      <td>73</td>\n",
       "      <td>一班</td>\n",
       "    </tr>\n",
       "    <tr>\n",
       "      <th>006</th>\n",
       "      <td>周久</td>\n",
       "      <td>女</td>\n",
       "      <td>165.4</td>\n",
       "      <td>65</td>\n",
       "      <td>96</td>\n",
       "      <td>三班</td>\n",
       "    </tr>\n",
       "    <tr>\n",
       "      <th>007</th>\n",
       "      <td>小何</td>\n",
       "      <td>男</td>\n",
       "      <td>174.8</td>\n",
       "      <td>88</td>\n",
       "      <td>79</td>\n",
       "      <td>二班</td>\n",
       "    </tr>\n",
       "  </tbody>\n",
       "</table>\n",
       "</div>"
      ],
      "text/plain": [
       "     姓名 性别     身高  语文  英语  班级\n",
       "001  张三  男  172.5  75  86  一班\n",
       "002  李四  女  168.0  89  87  三班\n",
       "003  王五  男  178.2  83  83  二班\n",
       "004  赵七  男  181.3  79  75  二班\n",
       "005  李八  女  161.7  74  73  一班\n",
       "006  周久  女  165.4  65  96  三班\n",
       "007  小何  男  174.8  88  79  二班"
      ]
     },
     "execution_count": 15,
     "metadata": {},
     "output_type": "execute_result"
    }
   ],
   "source": [
    "dft_drop_c = df_t.drop(\"008\",axis=0)\n",
    "dft_drop_a = dft_drop_c.drop(\"删我\",axis=1)\n",
    "dft_drop_a"
   ]
  },
  {
   "cell_type": "markdown",
   "id": "3a1c66b3",
   "metadata": {},
   "source": [
    "#### 变量1.sub(变量2,fill_value=0) 此处sub表示表1减表2，可以换为div和mul  此处的加减法也符合广播原则"
   ]
  },
  {
   "cell_type": "code",
   "execution_count": 16,
   "id": "644e8106",
   "metadata": {},
   "outputs": [
    {
     "data": {
      "text/html": [
       "<div>\n",
       "<style scoped>\n",
       "    .dataframe tbody tr th:only-of-type {\n",
       "        vertical-align: middle;\n",
       "    }\n",
       "\n",
       "    .dataframe tbody tr th {\n",
       "        vertical-align: top;\n",
       "    }\n",
       "\n",
       "    .dataframe thead th {\n",
       "        text-align: right;\n",
       "    }\n",
       "</style>\n",
       "<table border=\"1\" class=\"dataframe\">\n",
       "  <thead>\n",
       "    <tr style=\"text-align: right;\">\n",
       "      <th></th>\n",
       "      <th>姓名</th>\n",
       "      <th>性别</th>\n",
       "      <th>身高</th>\n",
       "      <th>语文</th>\n",
       "      <th>英语</th>\n",
       "      <th>班级</th>\n",
       "    </tr>\n",
       "  </thead>\n",
       "  <tbody>\n",
       "    <tr>\n",
       "      <th>001</th>\n",
       "      <td>张三</td>\n",
       "      <td>男</td>\n",
       "      <td>172.5</td>\n",
       "      <td>77</td>\n",
       "      <td>86</td>\n",
       "      <td>一班</td>\n",
       "    </tr>\n",
       "    <tr>\n",
       "      <th>002</th>\n",
       "      <td>李四</td>\n",
       "      <td>女</td>\n",
       "      <td>168.0</td>\n",
       "      <td>91</td>\n",
       "      <td>87</td>\n",
       "      <td>三班</td>\n",
       "    </tr>\n",
       "    <tr>\n",
       "      <th>003</th>\n",
       "      <td>王五</td>\n",
       "      <td>男</td>\n",
       "      <td>178.2</td>\n",
       "      <td>85</td>\n",
       "      <td>83</td>\n",
       "      <td>二班</td>\n",
       "    </tr>\n",
       "    <tr>\n",
       "      <th>004</th>\n",
       "      <td>赵七</td>\n",
       "      <td>男</td>\n",
       "      <td>181.3</td>\n",
       "      <td>81</td>\n",
       "      <td>75</td>\n",
       "      <td>二班</td>\n",
       "    </tr>\n",
       "    <tr>\n",
       "      <th>005</th>\n",
       "      <td>李八</td>\n",
       "      <td>女</td>\n",
       "      <td>161.7</td>\n",
       "      <td>76</td>\n",
       "      <td>73</td>\n",
       "      <td>一班</td>\n",
       "    </tr>\n",
       "    <tr>\n",
       "      <th>006</th>\n",
       "      <td>周久</td>\n",
       "      <td>女</td>\n",
       "      <td>165.4</td>\n",
       "      <td>67</td>\n",
       "      <td>96</td>\n",
       "      <td>三班</td>\n",
       "    </tr>\n",
       "    <tr>\n",
       "      <th>007</th>\n",
       "      <td>小何</td>\n",
       "      <td>男</td>\n",
       "      <td>174.8</td>\n",
       "      <td>90</td>\n",
       "      <td>79</td>\n",
       "      <td>二班</td>\n",
       "    </tr>\n",
       "  </tbody>\n",
       "</table>\n",
       "</div>"
      ],
      "text/plain": [
       "     姓名 性别     身高  语文  英语  班级\n",
       "001  张三  男  172.5  77  86  一班\n",
       "002  李四  女  168.0  91  87  三班\n",
       "003  王五  男  178.2  85  83  二班\n",
       "004  赵七  男  181.3  81  75  二班\n",
       "005  李八  女  161.7  76  73  一班\n",
       "006  周久  女  165.4  67  96  三班\n",
       "007  小何  男  174.8  90  79  二班"
      ]
     },
     "execution_count": 16,
     "metadata": {},
     "output_type": "execute_result"
    }
   ],
   "source": [
    "dft_drop_a[\"语文\"] = pd.to_numeric(dft_drop_a[\"语文\"], errors='coerce')\n",
    "dft_drop_a[\"语文\"] = dft_drop_a[\"语文\"] + 2  \n",
    "dft_drop_a   "
   ]
  },
  {
   "cell_type": "markdown",
   "id": "06ebba69",
   "metadata": {},
   "source": [
    "#### pd.to_numeric(变量名[\"列名\"], errors='coerce')   将指定列的数据转化为浮点数"
   ]
  },
  {
   "cell_type": "code",
   "execution_count": 17,
   "id": "e89c37e7",
   "metadata": {},
   "outputs": [
    {
     "data": {
      "text/html": [
       "<div>\n",
       "<style scoped>\n",
       "    .dataframe tbody tr th:only-of-type {\n",
       "        vertical-align: middle;\n",
       "    }\n",
       "\n",
       "    .dataframe tbody tr th {\n",
       "        vertical-align: top;\n",
       "    }\n",
       "\n",
       "    .dataframe thead th {\n",
       "        text-align: right;\n",
       "    }\n",
       "</style>\n",
       "<table border=\"1\" class=\"dataframe\">\n",
       "  <thead>\n",
       "    <tr style=\"text-align: right;\">\n",
       "      <th></th>\n",
       "      <th>姓名</th>\n",
       "      <th>性别</th>\n",
       "      <th>身高</th>\n",
       "      <th>语文</th>\n",
       "      <th>英语</th>\n",
       "      <th>班级</th>\n",
       "    </tr>\n",
       "  </thead>\n",
       "  <tbody>\n",
       "    <tr>\n",
       "      <th>001</th>\n",
       "      <td>张三</td>\n",
       "      <td>男</td>\n",
       "      <td>172.5</td>\n",
       "      <td>78</td>\n",
       "      <td>87</td>\n",
       "      <td>一班</td>\n",
       "    </tr>\n",
       "    <tr>\n",
       "      <th>002</th>\n",
       "      <td>李四</td>\n",
       "      <td>女</td>\n",
       "      <td>168.0</td>\n",
       "      <td>92</td>\n",
       "      <td>88</td>\n",
       "      <td>三班</td>\n",
       "    </tr>\n",
       "    <tr>\n",
       "      <th>003</th>\n",
       "      <td>王五</td>\n",
       "      <td>男</td>\n",
       "      <td>178.2</td>\n",
       "      <td>86</td>\n",
       "      <td>84</td>\n",
       "      <td>二班</td>\n",
       "    </tr>\n",
       "    <tr>\n",
       "      <th>004</th>\n",
       "      <td>赵七</td>\n",
       "      <td>男</td>\n",
       "      <td>181.3</td>\n",
       "      <td>82</td>\n",
       "      <td>76</td>\n",
       "      <td>二班</td>\n",
       "    </tr>\n",
       "    <tr>\n",
       "      <th>005</th>\n",
       "      <td>李八</td>\n",
       "      <td>女</td>\n",
       "      <td>161.7</td>\n",
       "      <td>77</td>\n",
       "      <td>74</td>\n",
       "      <td>一班</td>\n",
       "    </tr>\n",
       "    <tr>\n",
       "      <th>006</th>\n",
       "      <td>周久</td>\n",
       "      <td>女</td>\n",
       "      <td>165.4</td>\n",
       "      <td>68</td>\n",
       "      <td>97</td>\n",
       "      <td>三班</td>\n",
       "    </tr>\n",
       "    <tr>\n",
       "      <th>007</th>\n",
       "      <td>小何</td>\n",
       "      <td>男</td>\n",
       "      <td>174.8</td>\n",
       "      <td>91</td>\n",
       "      <td>80</td>\n",
       "      <td>二班</td>\n",
       "    </tr>\n",
       "  </tbody>\n",
       "</table>\n",
       "</div>"
      ],
      "text/plain": [
       "     姓名 性别     身高  语文  英语  班级\n",
       "001  张三  男  172.5  78  87  一班\n",
       "002  李四  女  168.0  92  88  三班\n",
       "003  王五  男  178.2  86  84  二班\n",
       "004  赵七  男  181.3  82  76  二班\n",
       "005  李八  女  161.7  77  74  一班\n",
       "006  周久  女  165.4  68  97  三班\n",
       "007  小何  男  174.8  91  80  二班"
      ]
     },
     "execution_count": 17,
     "metadata": {},
     "output_type": "execute_result"
    }
   ],
   "source": [
    "dft_drop_a[\"英语\"] = pd.to_numeric(dft_drop_a[\"英语\"], errors='coerce')\n",
    "# 创建一个Series序列\n",
    "bonus = pd.Series({\"语文\":1,\"英语\":1})\n",
    "# 将DataFrame与Series相加  \n",
    "dft_drop_a[[\"语文\",\"英语\"]] = dft_drop_a[[\"语文\",\"英语\"]] + bonus   \n",
    "dft_drop_a"
   ]
  },
  {
   "cell_type": "markdown",
   "id": "d8b507f1",
   "metadata": {},
   "source": [
    "#### 使用pd.DataFrame(键:{值},键:{值},....）字典方式，创建一个students_list列表 ， 使用.T交换索引和列名"
   ]
  },
  {
   "cell_type": "code",
   "execution_count": 18,
   "id": "f91d9153",
   "metadata": {},
   "outputs": [],
   "source": [
    "import numpy as np\n",
    "students_list = pd.DataFrame({\n",
    "    \"001\":{\"姓名\":\"小何\",\"语文\":89,\"数学\":82,\"英语\":92},\n",
    "    \"002\":{\"姓名\":\"小张\",\"语文\":79,\"数学\":86,\"英语\":84},\n",
    "    \"003\":{\"姓名\":\"小李\",\"语文\":83,\"数学\":91,\"英语\":78},\n",
    "    \"004\":{\"姓名\":\"小陈\",\"语文\":89,\"数学\":84,\"英语\":90},\n",
    "    \"005\":{\"姓名\":\"小王\",\"语文\":82,\"数学\":91,\"英语\":83}\n",
    "}).T"
   ]
  },
  {
   "cell_type": "markdown",
   "id": "e04c98c6",
   "metadata": {},
   "source": [
    "#### 求\"语文\"到\"英语\"的所有列，的所有行（\":\"），的平均值\".mean()\" ，此处axis=1则表示计算整行的平均值，如不输入或axis=0则计算列"
   ]
  },
  {
   "cell_type": "code",
   "execution_count": 19,
   "id": "d2515c17",
   "metadata": {},
   "outputs": [
    {
     "data": {
      "text/html": [
       "<div>\n",
       "<style scoped>\n",
       "    .dataframe tbody tr th:only-of-type {\n",
       "        vertical-align: middle;\n",
       "    }\n",
       "\n",
       "    .dataframe tbody tr th {\n",
       "        vertical-align: top;\n",
       "    }\n",
       "\n",
       "    .dataframe thead th {\n",
       "        text-align: right;\n",
       "    }\n",
       "</style>\n",
       "<table border=\"1\" class=\"dataframe\">\n",
       "  <thead>\n",
       "    <tr style=\"text-align: right;\">\n",
       "      <th></th>\n",
       "      <th>姓名</th>\n",
       "      <th>平均分</th>\n",
       "    </tr>\n",
       "  </thead>\n",
       "  <tbody>\n",
       "    <tr>\n",
       "      <th>001</th>\n",
       "      <td>小何</td>\n",
       "      <td>87.666667</td>\n",
       "    </tr>\n",
       "    <tr>\n",
       "      <th>002</th>\n",
       "      <td>小张</td>\n",
       "      <td>83.0</td>\n",
       "    </tr>\n",
       "    <tr>\n",
       "      <th>003</th>\n",
       "      <td>小李</td>\n",
       "      <td>84.0</td>\n",
       "    </tr>\n",
       "    <tr>\n",
       "      <th>004</th>\n",
       "      <td>小陈</td>\n",
       "      <td>87.666667</td>\n",
       "    </tr>\n",
       "    <tr>\n",
       "      <th>005</th>\n",
       "      <td>小王</td>\n",
       "      <td>85.333333</td>\n",
       "    </tr>\n",
       "  </tbody>\n",
       "</table>\n",
       "</div>"
      ],
      "text/plain": [
       "     姓名        平均分\n",
       "001  小何  87.666667\n",
       "002  小张       83.0\n",
       "003  小李       84.0\n",
       "004  小陈  87.666667\n",
       "005  小王  85.333333"
      ]
     },
     "execution_count": 19,
     "metadata": {},
     "output_type": "execute_result"
    }
   ],
   "source": [
    "average = students_list.loc[:,\"语文\":\"英语\"].mean(axis=1)\n",
    "name = students_list[\"姓名\"]\n",
    "students_average = pd.DataFrame({\"姓名\":name,\"平均分\":average})\n",
    "students_average"
   ]
  },
  {
   "cell_type": "markdown",
   "id": "8811ae1c",
   "metadata": {},
   "source": [
    "#### 基于上表，利用.iterrows()遍历列表每一行，定义变量index和row,具体表达如下"
   ]
  },
  {
   "cell_type": "code",
   "execution_count": 20,
   "id": "9b80667f",
   "metadata": {},
   "outputs": [
    {
     "name": "stdout",
     "output_type": "stream",
     "text": [
      "小何同学的平均分是87.66666666666667\n",
      "小张同学的平均分是83.0\n",
      "小李同学的平均分是84.0\n",
      "小陈同学的平均分是87.66666666666667\n",
      "小王同学的平均分是85.33333333333333\n"
     ]
    }
   ],
   "source": [
    "for index,row in students_average.iterrows():\n",
    "    print(f\"{row[\"姓名\"]}同学的平均分是{row[\"平均分\"]}\")"
   ]
  },
  {
   "cell_type": "markdown",
   "id": "6abb62a1",
   "metadata": {},
   "source": [
    "#### 运用apply()调用函数，使用lambda 变量名 : 具体操作 定义一个临时使用的函数； 此处用来计算各科第二高的分数"
   ]
  },
  {
   "cell_type": "code",
   "execution_count": 21,
   "id": "88969952",
   "metadata": {},
   "outputs": [
    {
     "data": {
      "text/plain": [
       "语文    89\n",
       "数学    91\n",
       "英语    90\n",
       "dtype: int64"
      ]
     },
     "execution_count": 21,
     "metadata": {},
     "output_type": "execute_result"
    }
   ],
   "source": [
    "students_list.loc[:,\"语文\":\"英语\"].apply(lambda average_of_exam : np.sort(average_of_exam)[-2] )"
   ]
  },
  {
   "cell_type": "markdown",
   "id": "bd78f643",
   "metadata": {},
   "source": [
    "#### 运用.astype(数据类型)将指定的表中数据转换，然后通过.describe()来获取对应列名的相关数据，最后用.round(保留小数位数)来进行保留指定位数的四舍五入"
   ]
  },
  {
   "cell_type": "code",
   "execution_count": 24,
   "id": "c65bf9e5",
   "metadata": {},
   "outputs": [
    {
     "data": {
      "text/html": [
       "<div>\n",
       "<style scoped>\n",
       "    .dataframe tbody tr th:only-of-type {\n",
       "        vertical-align: middle;\n",
       "    }\n",
       "\n",
       "    .dataframe tbody tr th {\n",
       "        vertical-align: top;\n",
       "    }\n",
       "\n",
       "    .dataframe thead th {\n",
       "        text-align: right;\n",
       "    }\n",
       "</style>\n",
       "<table border=\"1\" class=\"dataframe\">\n",
       "  <thead>\n",
       "    <tr style=\"text-align: right;\">\n",
       "      <th></th>\n",
       "      <th>语文</th>\n",
       "      <th>数学</th>\n",
       "      <th>英语</th>\n",
       "    </tr>\n",
       "  </thead>\n",
       "  <tbody>\n",
       "    <tr>\n",
       "      <th>count</th>\n",
       "      <td>5.00</td>\n",
       "      <td>5.00</td>\n",
       "      <td>5.00</td>\n",
       "    </tr>\n",
       "    <tr>\n",
       "      <th>mean</th>\n",
       "      <td>84.40</td>\n",
       "      <td>86.80</td>\n",
       "      <td>85.40</td>\n",
       "    </tr>\n",
       "    <tr>\n",
       "      <th>std</th>\n",
       "      <td>4.45</td>\n",
       "      <td>4.09</td>\n",
       "      <td>5.64</td>\n",
       "    </tr>\n",
       "    <tr>\n",
       "      <th>min</th>\n",
       "      <td>79.00</td>\n",
       "      <td>82.00</td>\n",
       "      <td>78.00</td>\n",
       "    </tr>\n",
       "    <tr>\n",
       "      <th>25%</th>\n",
       "      <td>82.00</td>\n",
       "      <td>84.00</td>\n",
       "      <td>83.00</td>\n",
       "    </tr>\n",
       "    <tr>\n",
       "      <th>50%</th>\n",
       "      <td>83.00</td>\n",
       "      <td>86.00</td>\n",
       "      <td>84.00</td>\n",
       "    </tr>\n",
       "    <tr>\n",
       "      <th>75%</th>\n",
       "      <td>89.00</td>\n",
       "      <td>91.00</td>\n",
       "      <td>90.00</td>\n",
       "    </tr>\n",
       "    <tr>\n",
       "      <th>max</th>\n",
       "      <td>89.00</td>\n",
       "      <td>91.00</td>\n",
       "      <td>92.00</td>\n",
       "    </tr>\n",
       "  </tbody>\n",
       "</table>\n",
       "</div>"
      ],
      "text/plain": [
       "          语文     数学     英语\n",
       "count   5.00   5.00   5.00\n",
       "mean   84.40  86.80  85.40\n",
       "std     4.45   4.09   5.64\n",
       "min    79.00  82.00  78.00\n",
       "25%    82.00  84.00  83.00\n",
       "50%    83.00  86.00  84.00\n",
       "75%    89.00  91.00  90.00\n",
       "max    89.00  91.00  92.00"
      ]
     },
     "execution_count": 24,
     "metadata": {},
     "output_type": "execute_result"
    }
   ],
   "source": [
    "students_list.loc[:,\"语文\":\"英语\"].astype(int).describe().round(2)"
   ]
  },
  {
   "cell_type": "markdown",
   "id": "48c932ad",
   "metadata": {},
   "source": [
    "#### Series创建只有一列的表，DataFrame创建带多列的表，index提取所有索引（第一列），columns提取所有列名（第一行）\n",
    "#### fillna(指定数)将空值替换为指定数，astype(数据类型)将指定表转换为指定数据类型，round(保留小数位数)对输出数据的小数位数做指定的四舍五入\n",
    "#### loc[索引名]，iloc[索引数] 提取指定的索引内容 ，head(行数) 提取列表中指定行数的数据，describe() 提取对应列的一些统计数据\n",
    "#### 变量名.loc[索引名] = [与列表对应数量的数据] 创建一个指定索引名和指定数据内容的新行\n",
    "#### drop(索引名,axis=1)删除指定索引名下一行的内容（若为列名，axis=0则为一列）\n",
    "#### 变量名.loc[索引名,列名] = \"内容\" 为列表中指定单元格增加内容\n"
   ]
  },
  {
   "cell_type": "code",
   "execution_count": null,
   "id": "123ce9f2",
   "metadata": {},
   "outputs": [],
   "source": []
  }
 ],
 "metadata": {
  "kernelspec": {
   "display_name": "Python 3 (ipykernel)",
   "language": "python",
   "name": "python3"
  },
  "language_info": {
   "codemirror_mode": {
    "name": "ipython",
    "version": 3
   },
   "file_extension": ".py",
   "mimetype": "text/x-python",
   "name": "python",
   "nbconvert_exporter": "python",
   "pygments_lexer": "ipython3",
   "version": "3.12.4"
  }
 },
 "nbformat": 4,
 "nbformat_minor": 5
}
